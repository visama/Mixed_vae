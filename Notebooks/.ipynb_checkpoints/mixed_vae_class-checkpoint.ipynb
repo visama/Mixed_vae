{
 "cells": [
  {
   "cell_type": "markdown",
   "id": "incoming-heather",
   "metadata": {},
   "source": [
    "# Mixed_vae class and its methods\n",
    "\n",
    "Following methods are implemented:\n",
    "\n",
    "1. custom_loss\n",
    "   * Only needed, when updating model parameters\n",
    "2. encode\n",
    "   * Compresses input data to real valued vector\n",
    "3. synthetic_data\n",
    "   * Creates synthetic data. Sample size\n",
    "4. likelihood\n",
    "   * Calculates probability estimate for data point\n",
    "5. reconstruct_logProbs\n",
    "   * Calculates reconstruction error for input data\n",
    "   \n",
    "Before demonstrating their use we have to create VAE-model. Below is the same data preprocessing and model fitting routine, that can be found in previous notebooks.\n",
    "\n",
    "Huom! voisi tallentaa tämän malling model fitting notebookissa ja ladata tässä"
   ]
  },
  {
   "cell_type": "code",
   "execution_count": 1,
   "id": "southern-algorithm",
   "metadata": {},
   "outputs": [
    {
     "name": "stdout",
     "output_type": "stream",
     "text": [
      "0\n"
     ]
    }
   ],
   "source": [
    "import pandas as pd\n",
    "import os\n",
    "import matplotlib.pyplot as plt\n",
    "import seaborn as sns\n",
    "\n",
    "#Change working directory\n",
    "os.chdir('..')\n",
    "\n",
    "from data_processing import *\n",
    "from vaeMixed import VAE_mixed\n",
    "from training import training_loop\n",
    "\n",
    "#Preprocess data\n",
    "X = pd.read_csv('Data/prostateSurvival.csv')\n",
    "data_dict = data_dictionary(X)\n",
    "variable_types = [\"cat\", \"cat\", \"cat\", \"int_negBin\", \"cat\"]\n",
    "X_input, X_dict, realisation_counts, = get_inputs_outputs(X, data_dict, variable_types)\n",
    "decoder_int_output_size = decoder_int_output_layer_size(variable_types)\n",
    "\n",
    "#Create & fit the model\n",
    "z_dim = 2\n",
    "model = VAE_mixed(X, X_dict, z_dim, 40, 40, realisation_counts, variable_types, decoder_int_output_size)\n",
    "batch_size = 100\n",
    "optimizer_learning_rate = 0.05\n",
    "epochs = 1\n",
    "model, losses = training_loop(model, X, epochs, batch_size, optimizer_learning_rate, X_input, X_dict)\n"
   ]
  },
  {
   "cell_type": "markdown",
   "id": "saved-biodiversity",
   "metadata": {},
   "source": [
    "# Encode-method\n",
    "VAEs encoder compresses data and the compressed data should follow standard normal distribution. Let's create a quick and simple visual quality check to if its the case."
   ]
  },
  {
   "cell_type": "code",
   "execution_count": 2,
   "id": "modular-brake",
   "metadata": {},
   "outputs": [
    {
     "data": {
      "text/plain": [
       "<matplotlib.collections.PathCollection at 0x2a3d5a78c88>"
      ]
     },
     "execution_count": 2,
     "metadata": {},
     "output_type": "execute_result"
    },
    {
     "data": {
      "image/png": "[encoded data removed]",
      "text/plain": [
       "<Figure size 432x288 with 1 Axes>"
      ]
     },
     "metadata": {
      "needs_background": "light"
     },
     "output_type": "display_data"
    }
   ],
   "source": [
    "z = model.encode(X_input).numpy()\n",
    "plt.scatter(z[:,0], z[:,1])"
   ]
  },
  {
   "cell_type": "markdown",
   "id": "polyphonic-blair",
   "metadata": {},
   "source": [
    "It is working. Compressed data could be thought as a new representation of the original data point. In electronical health records one visit to doctor often consists of multiple diagnose, procedure and atc-codes. Combining multiple sparse categorical variables can be hard and real valued representations could be much more compact than them."
   ]
  },
  {
   "cell_type": "markdown",
   "id": "vulnerable-private",
   "metadata": {},
   "source": [
    "# Synthetic_data-method\n",
    "\n",
    "Creating synthetic data is easy. Just choose the sample size and use the method."
   ]
  },
  {
   "cell_type": "code",
   "execution_count": 3,
   "id": "horizontal-journalism",
   "metadata": {},
   "outputs": [
    {
     "data": {
      "text/plain": [
       "{'grade': array([[1, 0],\n",
       "        [0, 1],\n",
       "        [1, 0]]),\n",
       " 'stage': array([[0, 0, 1],\n",
       "        [0, 0, 1],\n",
       "        [0, 1, 0]]),\n",
       " 'ageGroup': array([[0, 0, 1, 0],\n",
       "        [1, 0, 0, 0],\n",
       "        [0, 0, 0, 1]]),\n",
       " 'survTime': array([[63.],\n",
       "        [55.],\n",
       "        [81.]], dtype=float32),\n",
       " 'status': array([[1, 0, 0],\n",
       "        [1, 0, 0],\n",
       "        [1, 0, 0]])}"
      ]
     },
     "execution_count": 3,
     "metadata": {},
     "output_type": "execute_result"
    }
   ],
   "source": [
    "#Sample size\n",
    "n = 3\n",
    "\n",
    "#Create synthetic data\n",
    "synthetic_data = model.synthetic_data(n)\n",
    "synthetic_data"
   ]
  },
  {
   "cell_type": "markdown",
   "id": "collective-fitness",
   "metadata": {},
   "source": [
    "We can use function synthetic_Data_to_original to convert numeric synthetic data to original form."
   ]
  },
  {
   "cell_type": "code",
   "execution_count": 4,
   "id": "cheap-concept",
   "metadata": {},
   "outputs": [
    {
     "data": {
      "text/html": [
       "<div>\n",
       "<style scoped>\n",
       "    .dataframe tbody tr th:only-of-type {\n",
       "        vertical-align: middle;\n",
       "    }\n",
       "\n",
       "    .dataframe tbody tr th {\n",
       "        vertical-align: top;\n",
       "    }\n",
       "\n",
       "    .dataframe thead th {\n",
       "        text-align: right;\n",
       "    }\n",
       "</style>\n",
       "<table border=\"1\" class=\"dataframe\">\n",
       "  <thead>\n",
       "    <tr style=\"text-align: right;\">\n",
       "      <th></th>\n",
       "      <th>grade</th>\n",
       "      <th>stage</th>\n",
       "      <th>ageGroup</th>\n",
       "      <th>survTime</th>\n",
       "      <th>status</th>\n",
       "    </tr>\n",
       "  </thead>\n",
       "  <tbody>\n",
       "    <tr>\n",
       "      <th>0</th>\n",
       "      <td>mode</td>\n",
       "      <td>T2</td>\n",
       "      <td>75-79</td>\n",
       "      <td>63.0</td>\n",
       "      <td>0</td>\n",
       "    </tr>\n",
       "    <tr>\n",
       "      <th>1</th>\n",
       "      <td>poor</td>\n",
       "      <td>T2</td>\n",
       "      <td>66-69</td>\n",
       "      <td>55.0</td>\n",
       "      <td>0</td>\n",
       "    </tr>\n",
       "    <tr>\n",
       "      <th>2</th>\n",
       "      <td>mode</td>\n",
       "      <td>T1c</td>\n",
       "      <td>80+</td>\n",
       "      <td>81.0</td>\n",
       "      <td>0</td>\n",
       "    </tr>\n",
       "  </tbody>\n",
       "</table>\n",
       "</div>"
      ],
      "text/plain": [
       "  grade stage ageGroup survTime status\n",
       "0  mode    T2    75-79     63.0      0\n",
       "1  poor    T2    66-69     55.0      0\n",
       "2  mode   T1c      80+     81.0      0"
      ]
     },
     "execution_count": 4,
     "metadata": {},
     "output_type": "execute_result"
    }
   ],
   "source": [
    "from data_processing import synthetic_Data_to_original\n",
    "\n",
    "#Convert data\n",
    "Xs = synthetic_Data_to_original(synthetic_data, X.columns, data_dict, variable_types)\n",
    "Xs"
   ]
  },
  {
   "cell_type": "markdown",
   "id": "drawn-scotland",
   "metadata": {},
   "source": [
    "# Likelihood-method"
   ]
  },
  {
   "cell_type": "code",
   "execution_count": null,
   "id": "weird-audio",
   "metadata": {},
   "outputs": [],
   "source": []
  },
  {
   "cell_type": "markdown",
   "id": "piano-chocolate",
   "metadata": {},
   "source": [
    "# Reconstruct_logProbs-method\n",
    "\n",
    "This method calculates reconstruction error for each variable of the data point. Actually it is not an error but a log-probability for datapoint assuming distribution parameterized by the decoder. By summing the log-probabilities and getting an additive inverse of it one gets outlier score for the data point.\n",
    "\n",
    "Next we get the log-probabilities for subset of the original data."
   ]
  },
  {
   "cell_type": "code",
   "execution_count": 5,
   "id": "developing-excess",
   "metadata": {},
   "outputs": [
    {
     "data": {
      "text/plain": [
       "{'grade': array([-0.26738262, -1.6265868 , -0.25085285, -0.2653649 ], dtype=float32),\n",
       " 'stage': array([-0.9435593, -1.0718954, -1.4585472, -1.148695 ], dtype=float32),\n",
       " 'ageGroup': array([-1.17348  , -0.995787 , -1.579278 , -1.5577438], dtype=float32),\n",
       " 'survTime': array([-3.9356809, -4.4424195, -4.01256  , -4.238183 ], dtype=float32),\n",
       " 'status': array([-0.37797788, -0.4842011 , -0.3917541 , -0.35763115], dtype=float32)}"
      ]
     },
     "execution_count": 5,
     "metadata": {},
     "output_type": "execute_result"
    }
   ],
   "source": [
    "#Get subset\n",
    "X_subset = X[1:5]\n",
    "X_input_subset, X_dict_subset, realisation_counts, = get_inputs_outputs(X_subset, data_dict, variable_types)\n",
    "model.reconstruct_logProbs(X_input_subset, X_dict_subset)"
   ]
  },
  {
   "cell_type": "markdown",
   "id": "turned-humidity",
   "metadata": {},
   "source": [
    "We can visualize outlier scores for variable survTime using a density plot. We can see that the distribution has a longer left tail. "
   ]
  },
  {
   "cell_type": "code",
   "execution_count": 9,
   "id": "rental-oxygen",
   "metadata": {},
   "outputs": [
    {
     "data": {
      "text/plain": [
       "<AxesSubplot:ylabel='Density'>"
      ]
     },
     "execution_count": 9,
     "metadata": {},
     "output_type": "execute_result"
    },
    {
     "data": {
      "image/png": "[encoded data removed]",
      "text/plain": [
       "<Figure size 432x288 with 1 Axes>"
      ]
     },
     "metadata": {
      "needs_background": "light"
     },
     "output_type": "display_data"
    }
   ],
   "source": [
    "outlier_score_survTime = model.reconstruct_logProbs(X_input, X_dict)['survTime']\n",
    "sns.kdeplot(outlier_score_survTime)"
   ]
  },
  {
   "cell_type": "markdown",
   "id": "native-penalty",
   "metadata": {},
   "source": [
    "VAE is very effective in finding outliers in electronic health records, where data includes sparse categorical variables such as diagnose codes."
   ]
  }
 ],
 "metadata": {
  "kernelspec": {
   "display_name": "Python 3",
   "language": "python",
   "name": "python3"
  },
  "language_info": {
   "codemirror_mode": {
    "name": "ipython",
    "version": 3
   },
   "file_extension": ".py",
   "mimetype": "text/x-python",
   "name": "python",
   "nbconvert_exporter": "python",
   "pygments_lexer": "ipython3",
   "version": "3.7.9"
  }
 },
 "nbformat": 4,
 "nbformat_minor": 5
}
