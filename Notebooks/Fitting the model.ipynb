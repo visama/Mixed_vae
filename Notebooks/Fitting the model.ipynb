{
 "cells": [
  {
   "cell_type": "markdown",
   "id": "thousand-queen",
   "metadata": {},
   "source": [
    "## Training mixed-VAE\n",
    "\n",
    "Let us use the same prostate cancer dataset from r-package Asaur again in this tutorial. It contains variables grade, stage, ageGroup, survTime and status."
   ]
  },
  {
   "cell_type": "code",
   "execution_count": 1,
   "id": "unnecessary-adjustment",
   "metadata": {},
   "outputs": [
    {
     "data": {
      "text/html": [
       "<div>\n",
       "<style scoped>\n",
       "    .dataframe tbody tr th:only-of-type {\n",
       "        vertical-align: middle;\n",
       "    }\n",
       "\n",
       "    .dataframe tbody tr th {\n",
       "        vertical-align: top;\n",
       "    }\n",
       "\n",
       "    .dataframe thead th {\n",
       "        text-align: right;\n",
       "    }\n",
       "</style>\n",
       "<table border=\"1\" class=\"dataframe\">\n",
       "  <thead>\n",
       "    <tr style=\"text-align: right;\">\n",
       "      <th></th>\n",
       "      <th>grade</th>\n",
       "      <th>stage</th>\n",
       "      <th>ageGroup</th>\n",
       "      <th>survTime</th>\n",
       "      <th>status</th>\n",
       "    </tr>\n",
       "  </thead>\n",
       "  <tbody>\n",
       "    <tr>\n",
       "      <th>0</th>\n",
       "      <td>mode</td>\n",
       "      <td>T1c</td>\n",
       "      <td>80+</td>\n",
       "      <td>18</td>\n",
       "      <td>0</td>\n",
       "    </tr>\n",
       "    <tr>\n",
       "      <th>1</th>\n",
       "      <td>mode</td>\n",
       "      <td>T1ab</td>\n",
       "      <td>75-79</td>\n",
       "      <td>23</td>\n",
       "      <td>0</td>\n",
       "    </tr>\n",
       "    <tr>\n",
       "      <th>2</th>\n",
       "      <td>poor</td>\n",
       "      <td>T1c</td>\n",
       "      <td>75-79</td>\n",
       "      <td>37</td>\n",
       "      <td>0</td>\n",
       "    </tr>\n",
       "    <tr>\n",
       "      <th>3</th>\n",
       "      <td>mode</td>\n",
       "      <td>T2</td>\n",
       "      <td>70-74</td>\n",
       "      <td>27</td>\n",
       "      <td>0</td>\n",
       "    </tr>\n",
       "    <tr>\n",
       "      <th>4</th>\n",
       "      <td>mode</td>\n",
       "      <td>T1c</td>\n",
       "      <td>70-74</td>\n",
       "      <td>42</td>\n",
       "      <td>0</td>\n",
       "    </tr>\n",
       "  </tbody>\n",
       "</table>\n",
       "</div>"
      ],
      "text/plain": [
       "  grade stage ageGroup  survTime  status\n",
       "0  mode   T1c      80+        18       0\n",
       "1  mode  T1ab    75-79        23       0\n",
       "2  poor   T1c    75-79        37       0\n",
       "3  mode    T2    70-74        27       0\n",
       "4  mode   T1c    70-74        42       0"
      ]
     },
     "execution_count": 1,
     "metadata": {},
     "output_type": "execute_result"
    }
   ],
   "source": [
    "import pandas as pd\n",
    "import os\n",
    "import matplotlib.pyplot as plt\n",
    "import seaborn as sns\n",
    "\n",
    "#Change working directory\n",
    "os.chdir('..')\n",
    "\n",
    "from data_processing import *\n",
    "\n",
    "#Load data and print the first rows\n",
    "X = pd.read_csv('Data/prostateSurvival.csv')\n",
    "data_dict = data_dictionary(X)\n",
    "\n",
    "X.head()"
   ]
  },
  {
   "cell_type": "markdown",
   "id": "reasonable-creek",
   "metadata": {},
   "source": [
    "We have to define a probability distribution for each variable. Below are the possible distributions. Tensorflow-probability library is used in this implementation. Next to distribution name is the code for the distribution."
   ]
  },
  {
   "cell_type": "markdown",
   "id": "thousand-sector",
   "metadata": {},
   "source": [
    "* Categorical variables \n",
    "   * Categorical distribution : \"cat\"\n",
    "\n",
    "* Integer variables\n",
    "  * Poisson : \"int_Poisson\"\n",
    "  * Negative binomial : \"int_negBin\"  \n",
    "\n",
    "* Real variables\n",
    "  * Normal : \"real_Normal\"\n",
    "  * Laplace : \"real_Laplace\"\n",
    "  * Gamma : \"real_Gamma\"\n",
    "  "
   ]
  },
  {
   "cell_type": "markdown",
   "id": "embedded-vehicle",
   "metadata": {},
   "source": [
    "Variable survTime is only non-categorical variable in the dataset. Lets take a look of it before any modelling choices. "
   ]
  },
  {
   "cell_type": "code",
   "execution_count": 2,
   "id": "objective-plumbing",
   "metadata": {},
   "outputs": [
    {
     "data": {
      "text/plain": [
       "<AxesSubplot:xlabel='survTime', ylabel='Density'>"
      ]
     },
     "execution_count": 2,
     "metadata": {},
     "output_type": "execute_result"
    },
    {
     "data": {
      "image/png": "[encoded data removed]",
      "text/plain": [
       "<Figure size 432x288 with 1 Axes>"
      ]
     },
     "metadata": {
      "needs_background": "light"
     },
     "output_type": "display_data"
    }
   ],
   "source": [
    "sns.kdeplot(data=X,x=\"survTime\",shade=True,palette=\"deep\", common_norm=False)"
   ]
  },
  {
   "cell_type": "markdown",
   "id": "chicken-pottery",
   "metadata": {},
   "source": [
    "We could try to model it with negative binomial distribution. We have to feed selected distributions to the preprocessing function in a list."
   ]
  },
  {
   "cell_type": "code",
   "execution_count": 3,
   "id": "august-poverty",
   "metadata": {},
   "outputs": [],
   "source": [
    "variable_types = [\"cat\", \"cat\", \"cat\", \"int_negBin\", \"cat\"]\n",
    "X_input, X_dict, realisation_counts, = get_inputs_outputs(X, data_dict, variable_types)\n",
    "decoder_int_output_size = decoder_int_output_layer_size(variable_types)\n"
   ]
  },
  {
   "cell_type": "markdown",
   "id": "fresh-consolidation",
   "metadata": {},
   "source": [
    "Hyperparameter selection?\n",
    "Tarviiko paremmin selittää encoder ja decoder? Plottaa esim z = encoder(x). Niille oma notebook vai uudelleen nimetään tämä?\n",
    "\n",
    "* z_dim: \n",
    "  * Size of z when z = Encoder(x)\n",
    "* batch_size:\n",
    "  * Number of data points in one parameter update\n",
    "* optimizer_learning_rate: \n",
    "  * learning rate for optimization algorithm\n",
    "* epochs/batches: \n",
    "  * Number of times each data point are used"
   ]
  },
  {
   "cell_type": "code",
   "execution_count": 4,
   "id": "dominican-blast",
   "metadata": {},
   "outputs": [
    {
     "name": "stdout",
     "output_type": "stream",
     "text": [
      "0\n"
     ]
    }
   ],
   "source": [
    "#Import the model and a function for the training loop\n",
    "from vaeMixed import VAE_mixed\n",
    "from training import training_loop\n",
    "\n",
    "#Model hyperparametr\n",
    "z_dim = 2\n",
    "\n",
    "#Create model\n",
    "model = VAE_mixed(X, X_dict, z_dim, 40, 40, realisation_counts, variable_types, decoder_int_output_size)\n",
    "\n",
    "#Training parameters\n",
    "epochs = 1\n",
    "batch_size = 100\n",
    "optimizer_learning_rate = 0.05\n",
    "\n",
    "#\n",
    "model, losses = training_loop(model, X, epochs, batch_size, optimizer_learning_rate, X_input, X_dict)\n"
   ]
  },
  {
   "cell_type": "markdown",
   "id": "lonely-globe",
   "metadata": {},
   "source": [
    "visualize - kaikki saman tyyppiset muuttujat omaan plottiin"
   ]
  }
 ],
 "metadata": {
  "kernelspec": {
   "display_name": "Python 3",
   "language": "python",
   "name": "python3"
  },
  "language_info": {
   "codemirror_mode": {
    "name": "ipython",
    "version": 3
   },
   "file_extension": ".py",
   "mimetype": "text/x-python",
   "name": "python",
   "nbconvert_exporter": "python",
   "pygments_lexer": "ipython3",
   "version": "3.7.9"
  }
 },
 "nbformat": 4,
 "nbformat_minor": 5
}
