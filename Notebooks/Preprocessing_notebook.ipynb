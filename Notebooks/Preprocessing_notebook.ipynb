{
 "cells": [
  {
   "cell_type": "markdown",
   "id": "underlying-steel",
   "metadata": {},
   "source": [
    "# Preprocessing mixed data with categorical and integer values for VAE\n",
    "\n",
    "Autoencoder cannot ingest character valued categorical data. Therefore we have to preprocess data first. Example dataset is prostateSurvival from r package asaur. It contains categorical variables grade, stage, Agegroup and status and integer valued survTime variable."
   ]
  },
  {
   "cell_type": "code",
   "execution_count": 17,
   "id": "african-pound",
   "metadata": {},
   "outputs": [
    {
     "data": {
      "text/html": [
       "<div>\n",
       "<style scoped>\n",
       "    .dataframe tbody tr th:only-of-type {\n",
       "        vertical-align: middle;\n",
       "    }\n",
       "\n",
       "    .dataframe tbody tr th {\n",
       "        vertical-align: top;\n",
       "    }\n",
       "\n",
       "    .dataframe thead th {\n",
       "        text-align: right;\n",
       "    }\n",
       "</style>\n",
       "<table border=\"1\" class=\"dataframe\">\n",
       "  <thead>\n",
       "    <tr style=\"text-align: right;\">\n",
       "      <th></th>\n",
       "      <th>grade</th>\n",
       "      <th>stage</th>\n",
       "      <th>ageGroup</th>\n",
       "      <th>survTime</th>\n",
       "      <th>status</th>\n",
       "    </tr>\n",
       "  </thead>\n",
       "  <tbody>\n",
       "    <tr>\n",
       "      <th>0</th>\n",
       "      <td>mode</td>\n",
       "      <td>T1c</td>\n",
       "      <td>80+</td>\n",
       "      <td>18</td>\n",
       "      <td>0</td>\n",
       "    </tr>\n",
       "    <tr>\n",
       "      <th>1</th>\n",
       "      <td>mode</td>\n",
       "      <td>T1ab</td>\n",
       "      <td>75-79</td>\n",
       "      <td>23</td>\n",
       "      <td>0</td>\n",
       "    </tr>\n",
       "    <tr>\n",
       "      <th>2</th>\n",
       "      <td>poor</td>\n",
       "      <td>T1c</td>\n",
       "      <td>75-79</td>\n",
       "      <td>37</td>\n",
       "      <td>0</td>\n",
       "    </tr>\n",
       "    <tr>\n",
       "      <th>3</th>\n",
       "      <td>mode</td>\n",
       "      <td>T2</td>\n",
       "      <td>70-74</td>\n",
       "      <td>27</td>\n",
       "      <td>0</td>\n",
       "    </tr>\n",
       "    <tr>\n",
       "      <th>4</th>\n",
       "      <td>mode</td>\n",
       "      <td>T1c</td>\n",
       "      <td>70-74</td>\n",
       "      <td>42</td>\n",
       "      <td>0</td>\n",
       "    </tr>\n",
       "  </tbody>\n",
       "</table>\n",
       "</div>"
      ],
      "text/plain": [
       "  grade stage ageGroup  survTime  status\n",
       "0  mode   T1c      80+        18       0\n",
       "1  mode  T1ab    75-79        23       0\n",
       "2  poor   T1c    75-79        37       0\n",
       "3  mode    T2    70-74        27       0\n",
       "4  mode   T1c    70-74        42       0"
      ]
     },
     "execution_count": 17,
     "metadata": {},
     "output_type": "execute_result"
    }
   ],
   "source": [
    "import pandas as pd\n",
    "import os\n",
    "\n",
    "#Change working directory\n",
    "os.chdir('..')\n",
    "\n",
    "#Load data and print the first rows\n",
    "X = pd.read_csv('Data/prostateSurvival.csv')\n",
    "X.head()"
   ]
  },
  {
   "cell_type": "markdown",
   "id": "quality-syria",
   "metadata": {},
   "source": [
    "data_processing folder includes functions for preprocessing. First we create a dictionary of sklearn OneHotEncoders for each categorical variable in the dataset"
   ]
  },
  {
   "cell_type": "code",
   "execution_count": 18,
   "id": "emerging-threat",
   "metadata": {},
   "outputs": [
    {
     "data": {
      "text/plain": [
       "{'grade': OneHotEncoder(handle_unknown='ignore'),\n",
       " 'stage': OneHotEncoder(handle_unknown='ignore'),\n",
       " 'ageGroup': OneHotEncoder(handle_unknown='ignore'),\n",
       " 'survTime': OneHotEncoder(handle_unknown='ignore'),\n",
       " 'status': OneHotEncoder(handle_unknown='ignore')}"
      ]
     },
     "execution_count": 18,
     "metadata": {},
     "output_type": "execute_result"
    }
   ],
   "source": [
    "from data_processing import *\n",
    "data_dict = data_dictionary(X)\n",
    "data_dict"
   ]
  },
  {
   "cell_type": "markdown",
   "id": "fallen-syria",
   "metadata": {},
   "source": [
    "Final preprocessing step is to create variables X_input, X_dict and realisation_counts. X_input concatenates all variables together into one matrix. It is fed to the VAE-encoder neural network. X_dict is a dictionary where the key is the variable name and the value is the preprocessed matrix. This is important for the decoder neural network of VAE. Finally realisation_counts includes information about the realisation counts of variables. For non-categorical values it is always one. This is for the splitting of the decoder output layer, where each split is for one variable only."
   ]
  },
  {
   "cell_type": "code",
   "execution_count": 20,
   "id": "duplicate-initial",
   "metadata": {},
   "outputs": [
    {
     "name": "stdout",
     "output_type": "stream",
     "text": [
      "[[1. 0. 0. ... 1. 0. 0.]\n",
      " [1. 0. 1. ... 1. 0. 0.]\n",
      " [0. 1. 0. ... 1. 0. 0.]\n",
      " ...\n",
      " [1. 0. 0. ... 1. 0. 0.]\n",
      " [1. 0. 0. ... 1. 0. 0.]\n",
      " [1. 0. 0. ... 1. 0. 0.]]\n",
      "{'grade': array([[1., 0.],\n",
      "       [1., 0.],\n",
      "       [0., 1.],\n",
      "       ...,\n",
      "       [1., 0.],\n",
      "       [1., 0.],\n",
      "       [1., 0.]]), 'stage': array([[0., 1., 0.],\n",
      "       [1., 0., 0.],\n",
      "       [0., 1., 0.],\n",
      "       ...,\n",
      "       [0., 0., 1.],\n",
      "       [0., 0., 1.],\n",
      "       [0., 0., 1.]]), 'ageGroup': array([[0., 0., 0., 1.],\n",
      "       [0., 0., 1., 0.],\n",
      "       [0., 0., 1., 0.],\n",
      "       ...,\n",
      "       [0., 1., 0., 0.],\n",
      "       [0., 0., 1., 0.],\n",
      "       [0., 0., 1., 0.]]), 'survTime': array([[18],\n",
      "       [23],\n",
      "       [37],\n",
      "       ...,\n",
      "       [ 8],\n",
      "       [ 6],\n",
      "       [86]], dtype=int64), 'status': array([[1., 0., 0.],\n",
      "       [1., 0., 0.],\n",
      "       [1., 0., 0.],\n",
      "       ...,\n",
      "       [1., 0., 0.],\n",
      "       [1., 0., 0.],\n",
      "       [1., 0., 0.]])}\n",
      "[2, 3, 4, 1, 3]\n"
     ]
    }
   ],
   "source": [
    "variable_types = [\"cat\", \"cat\", \"cat\", \"int_negBin\", \"cat\"]\n",
    "X_input, X_dict, realisation_counts, = get_inputs_outputs(X, data_dict, variable_types)\n",
    "print(X_input)\n",
    "print(X_dict)\n",
    "print(realisation_counts)"
   ]
  },
  {
   "cell_type": "markdown",
   "id": "expired-wireless",
   "metadata": {},
   "source": [
    "Decoder consists of decoder for categorical values and other variables separately. Since decoder parameterizes probability distributions we define and these distributions can have varying number of parameters, we have to calculate the right outputs size for INT-decoder."
   ]
  },
  {
   "cell_type": "code",
   "execution_count": 21,
   "id": "varying-gallery",
   "metadata": {},
   "outputs": [
    {
     "data": {
      "text/plain": [
       "2"
      ]
     },
     "execution_count": 21,
     "metadata": {},
     "output_type": "execute_result"
    }
   ],
   "source": [
    "decoder_int_output_size = decoder_int_output_layer_size(variable_types)\n",
    "decoder_int_output_size"
   ]
  },
  {
   "cell_type": "markdown",
   "id": "respiratory-failure",
   "metadata": {},
   "source": [
    "## Summary\n",
    "VAE requires \n",
    "* X : Original data\n",
    "* X_input : Onehot encoded data\n",
    "* X_dict : Data dictionary of preprocessed data\n",
    "* variable_types : Probability distributions for each variable\n",
    "* realisation_counts : Realisation counts for categorical variables \n",
    "* decoder_int_output_size : INT-Decoder size"
   ]
  }
 ],
 "metadata": {
  "kernelspec": {
   "display_name": "Python 3",
   "language": "python",
   "name": "python3"
  },
  "language_info": {
   "codemirror_mode": {
    "name": "ipython",
    "version": 3
   },
   "file_extension": ".py",
   "mimetype": "text/x-python",
   "name": "python",
   "nbconvert_exporter": "python",
   "pygments_lexer": "ipython3",
   "version": "3.7.9"
  }
 },
 "nbformat": 4,
 "nbformat_minor": 5
}
